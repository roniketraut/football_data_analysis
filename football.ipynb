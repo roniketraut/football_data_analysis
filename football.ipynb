{
 "cells": [
  {
   "cell_type": "code",
   "execution_count": 39,
   "id": "570c0168-e46d-44b7-a44b-f87d8eea5ccc",
   "metadata": {},
   "outputs": [],
   "source": [
    "# importing the necessary libraries\n",
    "import pandas as pd\n",
    "import numpy as np\n",
    "import matplotlib.pyplot as plt\n",
    "import seaborn as sns\n",
    "import warnings\n",
    "warnings.filterwarnings('ignore')\n",
    "from datetime import datetime as dt"
   ]
  },
  {
   "cell_type": "code",
   "execution_count": 40,
   "id": "6602082f-b061-41db-a512-cf59de8f97af",
   "metadata": {},
   "outputs": [],
   "source": [
    "# loading the dataset\n",
    "appearances = pd.read_csv('C:/Users/acer/Desktop/Datasets/appearances.csv', encoding = 'latin1')\n",
    "games = pd.read_csv('C:/Users/acer/Desktop/Datasets/games.csv', encoding = 'latin1')\n",
    "leagues = pd.read_csv('C:/Users/acer/Desktop/Datasets/leagues.csv', encoding = 'latin1')\n",
    "players = pd.read_csv('C:/Users/acer/Desktop/Datasets/players.csv', encoding = 'latin1')\n",
    "shots = pd.read_csv('C:/Users/acer/Desktop/Datasets/shots.csv', encoding = 'latin1')\n",
    "teams = pd.read_csv('C:/Users/acer/Desktop/Datasets/teams.csv', encoding = 'latin1')\n",
    "teamstats = pd.read_csv('C:/Users/acer/Desktop/Datasets/teamstats.csv', encoding = 'latin1')"
   ]
  },
  {
   "cell_type": "code",
   "execution_count": 41,
   "id": "ff2b2546-4d25-49dd-b14f-2b7611554c0c",
   "metadata": {},
   "outputs": [],
   "source": [
    "df_dict = {'appearances': appearances, 'games': games, 'leagues': leagues, 'players': players, 'shots': shots, 'teams': teams, 'teamstats':teamstats}"
   ]
  },
  {
   "cell_type": "code",
   "execution_count": 42,
   "id": "c491e3c5-8d42-44b7-8c2b-ed0cf63102fb",
   "metadata": {},
   "outputs": [
    {
     "name": "stdout",
     "output_type": "stream",
     "text": [
      "The number of row in appearances is 356513 and column is 19\n",
      "The number of row in games is 12680 and column is 34\n",
      "The number of row in leagues is 5 and column is 3\n",
      "The number of row in players is 7659 and column is 2\n",
      "The number of row in shots is 324543 and column is 11\n",
      "The number of row in teams is 146 and column is 2\n",
      "The number of row in teamstats is 25360 and column is 16\n"
     ]
    }
   ],
   "source": [
    "# creating functions\n",
    "def shape_checker(df_list):\n",
    "    for name, df in df_list.items():\n",
    "        print(f\"The number of row in {name} is {df.shape[0]} and column is {df.shape[1]}\")\n",
    "\n",
    "shape_checker(df_dict)"
   ]
  },
  {
   "cell_type": "code",
   "execution_count": 43,
   "id": "cd1ea187-db66-4fec-a4b9-0e09bf50966a",
   "metadata": {},
   "outputs": [
    {
     "name": "stdout",
     "output_type": "stream",
     "text": [
      "The null for appearances is\n",
      " gameID           0\n",
      "playerID         0\n",
      "goals            0\n",
      "ownGoals         0\n",
      "shots            0\n",
      "xGoals           0\n",
      "xGoalsChain      0\n",
      "xGoalsBuildup    0\n",
      "assists          0\n",
      "keyPasses        0\n",
      "xAssists         0\n",
      "position         0\n",
      "positionOrder    0\n",
      "yellowCard       0\n",
      "redCard          0\n",
      "time             0\n",
      "substituteIn     0\n",
      "substituteOut    0\n",
      "leagueID         0\n",
      "dtype: int64\n",
      "The null for games is\n",
      " gameID                0\n",
      "leagueID              0\n",
      "season                0\n",
      "date                  0\n",
      "homeTeamID            0\n",
      "awayTeamID            0\n",
      "homeGoals             0\n",
      "awayGoals             0\n",
      "homeProbability       0\n",
      "drawProbability       0\n",
      "awayProbability       0\n",
      "homeGoalsHalfTime     0\n",
      "awayGoalsHalfTime     0\n",
      "B365H                 5\n",
      "B365D                 5\n",
      "B365A                 5\n",
      "BWH                   3\n",
      "BWD                   3\n",
      "BWA                   3\n",
      "IWH                  18\n",
      "IWD                  18\n",
      "IWA                  18\n",
      "PSH                  20\n",
      "PSD                  20\n",
      "PSA                  20\n",
      "WHH                   6\n",
      "WHD                   6\n",
      "WHA                   6\n",
      "VCH                   4\n",
      "VCD                   4\n",
      "VCA                   4\n",
      "PSCH                  2\n",
      "PSCD                  2\n",
      "PSCA                  2\n",
      "dtype: int64\n",
      "The null for leagues is\n",
      " leagueID             0\n",
      "name                 0\n",
      "understatNotation    0\n",
      "dtype: int64\n",
      "The null for players is\n",
      " playerID    0\n",
      "name        0\n",
      "dtype: int64\n",
      "The null for shots is\n",
      " gameID            0\n",
      "shooterID         0\n",
      "assisterID    84344\n",
      "minute            0\n",
      "situation         0\n",
      "lastAction    36896\n",
      "shotType          0\n",
      "shotResult        0\n",
      "xGoal             0\n",
      "positionX         0\n",
      "positionY         0\n",
      "dtype: int64\n",
      "The null for teams is\n",
      " teamID    0\n",
      "name      0\n",
      "dtype: int64\n",
      "The null for teamstats is\n",
      " gameID           0\n",
      "teamID           0\n",
      "season           0\n",
      "date             0\n",
      "location         0\n",
      "goals            0\n",
      "xGoals           0\n",
      "shots            0\n",
      "shotsOnTarget    0\n",
      "deep             0\n",
      "ppda             0\n",
      "fouls            0\n",
      "corners          0\n",
      "yellowCards      1\n",
      "redCards         0\n",
      "result           0\n",
      "dtype: int64\n"
     ]
    },
    {
     "data": {
      "text/plain": [
       "gameID                0\n",
       "leagueID              0\n",
       "season                0\n",
       "date                  0\n",
       "homeTeamID            0\n",
       "awayTeamID            0\n",
       "homeGoals             0\n",
       "awayGoals             0\n",
       "homeProbability       0\n",
       "drawProbability       0\n",
       "awayProbability       0\n",
       "homeGoalsHalfTime     0\n",
       "awayGoalsHalfTime     0\n",
       "B365H                 5\n",
       "B365D                 5\n",
       "B365A                 5\n",
       "BWH                   3\n",
       "BWD                   3\n",
       "BWA                   3\n",
       "IWH                  18\n",
       "IWD                  18\n",
       "IWA                  18\n",
       "PSH                  20\n",
       "PSD                  20\n",
       "PSA                  20\n",
       "WHH                   6\n",
       "WHD                   6\n",
       "WHA                   6\n",
       "VCH                   4\n",
       "VCD                   4\n",
       "VCA                   4\n",
       "PSCH                  2\n",
       "PSCD                  2\n",
       "PSCA                  2\n",
       "dtype: int64"
      ]
     },
     "execution_count": 43,
     "metadata": {},
     "output_type": "execute_result"
    }
   ],
   "source": [
    "# creating the function for null checker\n",
    "def null_checker(df_dict):\n",
    "    for name, df in df_dict.items():\n",
    "        null_num = df.isna().sum()\n",
    "        print(f\"The null for {name} is\\n {null_num}\")\n",
    "\n",
    "null_checker(df_dict)\n",
    "\n",
    "games.isna().sum()"
   ]
  },
  {
   "cell_type": "code",
   "execution_count": 44,
   "id": "9bf90a9f-9af7-4f95-9f5b-a299e8b48581",
   "metadata": {},
   "outputs": [],
   "source": [
    "import missingno as msno"
   ]
  },
  {
   "cell_type": "code",
   "execution_count": 45,
   "id": "1c0e0a3a-12e7-4e1c-b8a0-f7245d03ba33",
   "metadata": {},
   "outputs": [
    {
     "data": {
      "text/plain": [
       "<Axes: >"
      ]
     },
     "execution_count": 45,
     "metadata": {},
     "output_type": "execute_result"
    },
    {
     "data": {
      "image/png": "[encoded data removed]",
      "text/plain": [
       "<Figure size 2500x1000 with 2 Axes>"
      ]
     },
     "metadata": {},
     "output_type": "display_data"
    }
   ],
   "source": [
    "msno.matrix(games)"
   ]
  },
  {
   "cell_type": "code",
   "execution_count": 46,
   "id": "b04ce41f-bfd6-4f9b-b268-02827f1060d8",
   "metadata": {},
   "outputs": [],
   "source": [
    "# columns with missing values in games \n",
    "col_games = ['B365H', 'B365D', 'B365A', 'BWH', 'BWD', 'BWA', 'IWH', 'IWD', 'IWA', 'PSH', 'PSD', 'PSA', 'WHH', 'WHD', 'WHA', 'VCH', 'VCD', 'VCA', 'PSCH', 'PSCD', 'PSCA']"
   ]
  },
  {
   "cell_type": "code",
   "execution_count": 47,
   "id": "1a4b7fcc-bec9-4a11-85ca-6cd9fe895485",
   "metadata": {},
   "outputs": [],
   "source": [
    "# calculating the median of above columns by grouping them by hometeam and awayteam\n",
    "medians_dict = {\n",
    "    col: games.groupby(['homeTeamID', 'awayTeamID'])[col].median().to_dict() for col in col_games\n",
    "}"
   ]
  },
  {
   "cell_type": "code",
   "execution_count": 48,
   "id": "7ada1579-5584-4424-bde2-5d6d7b33614a",
   "metadata": {},
   "outputs": [],
   "source": [
    "# function to map and impute missing values\n",
    "def impute_median(row, col):\n",
    "    if pd.isnull(row[col]):\n",
    "        return medians_dict[col].get((row['homeTeamID'], row['awayTeamID']), row[col])\n",
    "    return row[col]\n",
    "\n",
    "# imputing the missing values for each column\n",
    "for col in col_games:\n",
    "    games[col] = games.apply(lambda row: impute_median(row, col), axis = 1)"
   ]
  },
  {
   "cell_type": "code",
   "execution_count": 49,
   "id": "7243ee9f-e2ea-4951-91eb-d46ce17e77c6",
   "metadata": {},
   "outputs": [
    {
     "data": {
      "text/plain": [
       "gameID               0\n",
       "leagueID             0\n",
       "season               0\n",
       "date                 0\n",
       "homeTeamID           0\n",
       "awayTeamID           0\n",
       "homeGoals            0\n",
       "awayGoals            0\n",
       "homeProbability      0\n",
       "drawProbability      0\n",
       "awayProbability      0\n",
       "homeGoalsHalfTime    0\n",
       "awayGoalsHalfTime    0\n",
       "B365H                0\n",
       "B365D                0\n",
       "B365A                0\n",
       "BWH                  1\n",
       "BWD                  1\n",
       "BWA                  1\n",
       "IWH                  0\n",
       "IWD                  0\n",
       "IWA                  0\n",
       "PSH                  3\n",
       "PSD                  3\n",
       "PSA                  3\n",
       "WHH                  1\n",
       "WHD                  1\n",
       "WHA                  1\n",
       "VCH                  1\n",
       "VCD                  1\n",
       "VCA                  1\n",
       "PSCH                 0\n",
       "PSCD                 0\n",
       "PSCA                 0\n",
       "dtype: int64"
      ]
     },
     "execution_count": 49,
     "metadata": {},
     "output_type": "execute_result"
    }
   ],
   "source": [
    "games.isna().sum()"
   ]
  },
  {
   "cell_type": "code",
   "execution_count": 50,
   "id": "6e19597f-7c0b-4470-b8d9-fe694a9bfc27",
   "metadata": {},
   "outputs": [
    {
     "data": {
      "text/plain": [
       "{'B365H': {2014: 2.2,\n",
       "  2015: 2.15,\n",
       "  2016: 2.15,\n",
       "  2017: 2.15,\n",
       "  2018: 2.2,\n",
       "  2019: 2.2,\n",
       "  2020: 2.35},\n",
       " 'B365D': {2014: 3.5,\n",
       "  2015: 3.5,\n",
       "  2016: 3.6,\n",
       "  2017: 3.6,\n",
       "  2018: 3.6,\n",
       "  2019: 3.6,\n",
       "  2020: 3.6},\n",
       " 'B365A': {2014: 3.5,\n",
       "  2015: 3.5,\n",
       "  2016: 3.6,\n",
       "  2017: 3.5,\n",
       "  2018: 3.4,\n",
       "  2019: 3.3,\n",
       "  2020: 3.1},\n",
       " 'BWH': {2014: 2.2,\n",
       "  2015: 2.2,\n",
       "  2016: 2.15,\n",
       "  2017: 2.15,\n",
       "  2018: 2.2,\n",
       "  2019: 2.2,\n",
       "  2020: 2.35},\n",
       " 'BWD': {2014: 3.4,\n",
       "  2015: 3.4,\n",
       "  2016: 3.5,\n",
       "  2017: 3.6,\n",
       "  2018: 3.6,\n",
       "  2019: 3.6,\n",
       "  2020: 3.6},\n",
       " 'BWA': {2014: 3.3,\n",
       "  2015: 3.4,\n",
       "  2016: 3.5,\n",
       "  2017: 3.5,\n",
       "  2018: 3.4,\n",
       "  2019: 3.3,\n",
       "  2020: 3.1},\n",
       " 'IWH': {2014: 2.2,\n",
       "  2015: 2.2,\n",
       "  2016: 2.2,\n",
       "  2017: 2.2,\n",
       "  2018: 2.2,\n",
       "  2019: 2.2,\n",
       "  2020: 2.4},\n",
       " 'IWD': {2014: 3.4,\n",
       "  2015: 3.3,\n",
       "  2016: 3.5,\n",
       "  2017: 3.5,\n",
       "  2018: 3.55,\n",
       "  2019: 3.6,\n",
       "  2020: 3.6},\n",
       " 'IWA': {2014: 3.3,\n",
       "  2015: 3.3,\n",
       "  2016: 3.3,\n",
       "  2017: 3.3,\n",
       "  2018: 3.4,\n",
       "  2019: 3.3,\n",
       "  2020: 3.1},\n",
       " 'PSH': {2014: 2.22,\n",
       "  2015: 2.2,\n",
       "  2016: 2.19,\n",
       "  2017: 2.21,\n",
       "  2018: 2.26,\n",
       "  2019: 2.27,\n",
       "  2020: 2.42},\n",
       " 'PSD': {2014: 3.6,\n",
       "  2015: 3.59,\n",
       "  2016: 3.68,\n",
       "  2017: 3.69,\n",
       "  2018: 3.715,\n",
       "  2019: 3.72,\n",
       "  2020: 3.76},\n",
       " 'PSA': {2014: 3.67,\n",
       "  2015: 3.6550000000000002,\n",
       "  2016: 3.685,\n",
       "  2017: 3.64,\n",
       "  2018: 3.48,\n",
       "  2019: 3.41,\n",
       "  2020: 3.2},\n",
       " 'WHH': {2014: 2.25,\n",
       "  2015: 2.2,\n",
       "  2016: 2.2,\n",
       "  2017: 2.2,\n",
       "  2018: 2.2,\n",
       "  2019: 2.2,\n",
       "  2020: 2.35},\n",
       " 'WHD': {2014: 3.3,\n",
       "  2015: 3.3,\n",
       "  2016: 3.5,\n",
       "  2017: 3.5,\n",
       "  2018: 3.6,\n",
       "  2019: 3.6,\n",
       "  2020: 3.6},\n",
       " 'WHA': {2014: 3.4,\n",
       "  2015: 3.4,\n",
       "  2016: 3.5,\n",
       "  2017: 3.4,\n",
       "  2018: 3.4,\n",
       "  2019: 3.3,\n",
       "  2020: 3.1},\n",
       " 'VCH': {2014: 2.2,\n",
       "  2015: 2.2,\n",
       "  2016: 2.15,\n",
       "  2017: 2.2,\n",
       "  2018: 2.25,\n",
       "  2019: 2.2,\n",
       "  2020: 2.38},\n",
       " 'VCD': {2014: 3.5,\n",
       "  2015: 3.6,\n",
       "  2016: 3.6,\n",
       "  2017: 3.6,\n",
       "  2018: 3.6,\n",
       "  2019: 3.6,\n",
       "  2020: 3.6},\n",
       " 'VCA': {2014: 3.6,\n",
       "  2015: 3.6,\n",
       "  2016: 3.6,\n",
       "  2017: 3.6,\n",
       "  2018: 3.4,\n",
       "  2019: 3.3,\n",
       "  2020: 3.1},\n",
       " 'PSCH': {2014: 2.21,\n",
       "  2015: 2.1950000000000003,\n",
       "  2016: 2.23,\n",
       "  2017: 2.22,\n",
       "  2018: 2.27,\n",
       "  2019: 2.26,\n",
       "  2020: 2.4450000000000003},\n",
       " 'PSCD': {2014: 3.61,\n",
       "  2015: 3.61,\n",
       "  2016: 3.67,\n",
       "  2017: 3.68,\n",
       "  2018: 3.645,\n",
       "  2019: 3.69,\n",
       "  2020: 3.71},\n",
       " 'PSCA': {2014: 3.68,\n",
       "  2015: 3.66,\n",
       "  2016: 3.69,\n",
       "  2017: 3.6550000000000002,\n",
       "  2018: 3.52,\n",
       "  2019: 3.43,\n",
       "  2020: 3.215}}"
      ]
     },
     "execution_count": 50,
     "metadata": {},
     "output_type": "execute_result"
    }
   ],
   "source": [
    "# for the remaining nulls in the games, lets do it by season\n",
    "season_null = games.groupby('season')[col_games].median().to_dict()\n",
    "season_null"
   ]
  },
  {
   "cell_type": "code",
   "execution_count": 51,
   "id": "114e4d72-3f82-4df1-be9a-35cbffcd6096",
   "metadata": {},
   "outputs": [],
   "source": [
    "for col in col_games:\n",
    "    # Map the medians based on season and fill missing values\n",
    "    games[col] = games[col].fillna(games['season'].map(season_null[col]))"
   ]
  },
  {
   "cell_type": "code",
   "execution_count": 52,
   "id": "e1b8cbf4-dc95-4b72-abe3-29e66eb13792",
   "metadata": {},
   "outputs": [
    {
     "data": {
      "text/plain": [
       "gameID               0\n",
       "leagueID             0\n",
       "season               0\n",
       "date                 0\n",
       "homeTeamID           0\n",
       "awayTeamID           0\n",
       "homeGoals            0\n",
       "awayGoals            0\n",
       "homeProbability      0\n",
       "drawProbability      0\n",
       "awayProbability      0\n",
       "homeGoalsHalfTime    0\n",
       "awayGoalsHalfTime    0\n",
       "B365H                0\n",
       "B365D                0\n",
       "B365A                0\n",
       "BWH                  0\n",
       "BWD                  0\n",
       "BWA                  0\n",
       "IWH                  0\n",
       "IWD                  0\n",
       "IWA                  0\n",
       "PSH                  0\n",
       "PSD                  0\n",
       "PSA                  0\n",
       "WHH                  0\n",
       "WHD                  0\n",
       "WHA                  0\n",
       "VCH                  0\n",
       "VCD                  0\n",
       "VCA                  0\n",
       "PSCH                 0\n",
       "PSCD                 0\n",
       "PSCA                 0\n",
       "dtype: int64"
      ]
     },
     "execution_count": 52,
     "metadata": {},
     "output_type": "execute_result"
    }
   ],
   "source": [
    "games.isna().sum()"
   ]
  },
  {
   "cell_type": "code",
   "execution_count": 57,
   "id": "1fcc5691-cc8c-4808-9080-bc35869d5659",
   "metadata": {},
   "outputs": [
    {
     "name": "stdout",
     "output_type": "stream",
     "text": [
      "The values contain non-finite values\n"
     ]
    },
    {
     "data": {
      "text/plain": [
       "gameID          int64\n",
       "shooterID       int64\n",
       "assisterID    float64\n",
       "minute          int64\n",
       "situation      object\n",
       "lastAction     object\n",
       "shotType       object\n",
       "shotResult     object\n",
       "xGoal         float64\n",
       "positionX     float64\n",
       "positionY     float64\n",
       "dtype: object"
      ]
     },
     "execution_count": 57,
     "metadata": {},
     "output_type": "execute_result"
    }
   ],
   "source": [
    "try:\n",
    "    if shots['assisterID'].isnull().any() or np.isinf(shots['assisterID']).any():\n",
    "        raise ValueError('The values contain non-finite values')\n",
    "    else:\n",
    "        shots['assisterID'] = shots['assisterID'].astype(int)\n",
    "\n",
    "except ValueError as e:\n",
    "    print(e)\n",
    "shots.dtypes"
   ]
  },
  {
   "cell_type": "code",
   "execution_count": 60,
   "id": "89b208f1-f8e5-4724-87b7-d6f1f54183b7",
   "metadata": {},
   "outputs": [],
   "source": [
    "games.to_csv(\"games3.csv\", index=False, sep=\",\", encoding=\"utf-8\")"
   ]
  },
  {
   "cell_type": "code",
   "execution_count": 65,
   "id": "cf2ebd6d-81a2-4c49-aec5-fcc882a2d2d2",
   "metadata": {},
   "outputs": [],
   "source": [
    "shots['assisterID'].fillna(0, inplace = True)"
   ]
  },
  {
   "cell_type": "code",
   "execution_count": 66,
   "id": "3b8384db-b985-483b-814e-5db464fa035d",
   "metadata": {},
   "outputs": [],
   "source": [
    "shots['assisterID'] = shots['assisterID'].astype(int)"
   ]
  },
  {
   "cell_type": "code",
   "execution_count": 67,
   "id": "cb81523b-e740-4fc7-bb46-faa3bdb10003",
   "metadata": {},
   "outputs": [
    {
     "data": {
      "text/plain": [
       "gameID          int64\n",
       "shooterID       int64\n",
       "assisterID      int64\n",
       "minute          int64\n",
       "situation      object\n",
       "lastAction     object\n",
       "shotType       object\n",
       "shotResult     object\n",
       "xGoal         float64\n",
       "positionX     float64\n",
       "positionY     float64\n",
       "dtype: object"
      ]
     },
     "execution_count": 67,
     "metadata": {},
     "output_type": "execute_result"
    }
   ],
   "source": [
    "shots.dtypes"
   ]
  },
  {
   "cell_type": "code",
   "execution_count": 68,
   "id": "3041db4d-c2e3-4589-a9c9-e1c3c53ca561",
   "metadata": {},
   "outputs": [],
   "source": [
    "shots.to_csv(\"shots3.csv\", index = False, sep = \",\", encoding = \"utf-8\")"
   ]
  },
  {
   "cell_type": "code",
   "execution_count": 70,
   "id": "ca8ac716-ec65-4482-a994-7a9eb22861a2",
   "metadata": {},
   "outputs": [],
   "source": [
    "game_co = games.columns.to_list()"
   ]
  },
  {
   "cell_type": "code",
   "execution_count": 71,
   "id": "1148c102-f0fd-45f1-8b70-4cbef73b3b23",
   "metadata": {},
   "outputs": [
    {
     "data": {
      "text/plain": [
       "['gameID',\n",
       " 'leagueID',\n",
       " 'season',\n",
       " 'date',\n",
       " 'homeTeamID',\n",
       " 'awayTeamID',\n",
       " 'homeGoals',\n",
       " 'awayGoals',\n",
       " 'homeProbability',\n",
       " 'drawProbability',\n",
       " 'awayProbability',\n",
       " 'homeGoalsHalfTime',\n",
       " 'awayGoalsHalfTime',\n",
       " 'B365H',\n",
       " 'B365D',\n",
       " 'B365A',\n",
       " 'BWH',\n",
       " 'BWD',\n",
       " 'BWA',\n",
       " 'IWH',\n",
       " 'IWD',\n",
       " 'IWA',\n",
       " 'PSH',\n",
       " 'PSD',\n",
       " 'PSA',\n",
       " 'WHH',\n",
       " 'WHD',\n",
       " 'WHA',\n",
       " 'VCH',\n",
       " 'VCD',\n",
       " 'VCA',\n",
       " 'PSCH',\n",
       " 'PSCD',\n",
       " 'PSCA']"
      ]
     },
     "execution_count": 71,
     "metadata": {},
     "output_type": "execute_result"
    }
   ],
   "source": [
    "game_co"
   ]
  },
  {
   "cell_type": "code",
   "execution_count": 72,
   "id": "fcf7e673-9ae7-4da3-bae7-39dc4cbfdf9c",
   "metadata": {},
   "outputs": [
    {
     "data": {
      "text/plain": [
       "['gameID',\n",
       " 'playerID',\n",
       " 'goals',\n",
       " 'ownGoals',\n",
       " 'shots',\n",
       " 'xGoals',\n",
       " 'xGoalsChain',\n",
       " 'xGoalsBuildup',\n",
       " 'assists',\n",
       " 'keyPasses',\n",
       " 'xAssists',\n",
       " 'position',\n",
       " 'positionOrder',\n",
       " 'yellowCard',\n",
       " 'redCard',\n",
       " 'time',\n",
       " 'substituteIn',\n",
       " 'substituteOut',\n",
       " 'leagueID']"
      ]
     },
     "execution_count": 72,
     "metadata": {},
     "output_type": "execute_result"
    }
   ],
   "source": [
    "app_col = appearances.columns.to_list()\n",
    "app_col"
   ]
  },
  {
   "cell_type": "code",
   "execution_count": 75,
   "id": "1d2d2287-872b-457d-ab9c-aefb3991839a",
   "metadata": {},
   "outputs": [],
   "source": [
    "shots['assisterID'] = shots['assisterID'].replace(0, None)         "
   ]
  },
  {
   "cell_type": "code",
   "execution_count": 77,
   "id": "0db97a8a-afab-412f-9826-27847f084069",
   "metadata": {},
   "outputs": [
    {
     "data": {
      "text/plain": [
       "gameID          int64\n",
       "shooterID       int64\n",
       "assisterID     object\n",
       "minute          int64\n",
       "situation      object\n",
       "lastAction     object\n",
       "shotType       object\n",
       "shotResult     object\n",
       "xGoal         float64\n",
       "positionX     float64\n",
       "positionY     float64\n",
       "dtype: object"
      ]
     },
     "execution_count": 77,
     "metadata": {},
     "output_type": "execute_result"
    }
   ],
   "source": [
    "shots.dtypes"
   ]
  },
  {
   "cell_type": "code",
   "execution_count": 79,
   "id": "012eaebf-f5b4-4ab2-a6a1-e5eb55bf2828",
   "metadata": {},
   "outputs": [],
   "source": [
    "shots.to_csv(\"shots4.csv\", index = False, sep = \",\", encoding = \"utf-8\")"
   ]
  },
  {
   "cell_type": "code",
   "execution_count": 83,
   "id": "6b9a8f33-1ebf-4fc2-bf9b-3befa6bf0fde",
   "metadata": {},
   "outputs": [
    {
     "data": {
      "text/plain": [
       "gameID             int64\n",
       "teamID             int64\n",
       "season             int64\n",
       "date              object\n",
       "location          object\n",
       "goals              int64\n",
       "xGoals           float64\n",
       "shots              int64\n",
       "shotsOnTarget      int64\n",
       "deep               int64\n",
       "ppda             float64\n",
       "fouls              int64\n",
       "corners            int64\n",
       "yellowCards      float64\n",
       "redCards           int64\n",
       "result            object\n",
       "dtype: object"
      ]
     },
     "execution_count": 83,
     "metadata": {},
     "output_type": "execute_result"
    }
   ],
   "source": [
    "teamstats.dtypes"
   ]
  },
  {
   "cell_type": "code",
   "execution_count": 85,
   "id": "b1e75439-5559-4f12-92b9-b4bc3217e218",
   "metadata": {},
   "outputs": [],
   "source": [
    "teamstats['yellowCards'] = teamstats['yellowCards'].replace(\"NA\", None)"
   ]
  },
  {
   "cell_type": "code",
   "execution_count": 87,
   "id": "196a8129-1836-4107-bcac-b6fbfa4784fd",
   "metadata": {},
   "outputs": [],
   "source": [
    "teamstats.to_csv(\"teamstats.csv\", index = False, encoding = \"latin1\")"
   ]
  },
  {
   "cell_type": "code",
   "execution_count": null,
   "id": "df01af85-d369-4c55-93cc-b243a1a90a5d",
   "metadata": {},
   "outputs": [],
   "source": []
  }
 ],
 "metadata": {
  "kernelspec": {
   "display_name": "Python 3.13",
   "language": "python",
   "name": "python313"
  },
  "language_info": {
   "codemirror_mode": {
    "name": "ipython",
    "version": 3
   },
   "file_extension": ".py",
   "mimetype": "text/x-python",
   "name": "python",
   "nbconvert_exporter": "python",
   "pygments_lexer": "ipython3",
   "version": "3.13.1"
  }
 },
 "nbformat": 4,
 "nbformat_minor": 5
}
